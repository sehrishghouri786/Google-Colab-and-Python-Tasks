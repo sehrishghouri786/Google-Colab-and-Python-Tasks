{
  "nbformat": 4,
  "nbformat_minor": 0,
  "metadata": {
    "colab": {
      "provenance": [],
      "include_colab_link": true
    },
    "kernelspec": {
      "name": "python3",
      "display_name": "Python 3"
    },
    "language_info": {
      "name": "python"
    }
  },
  "cells": [
    {
      "cell_type": "markdown",
      "metadata": {
        "id": "view-in-github",
        "colab_type": "text"
      },
      "source": [
        "<a href=\"https://colab.research.google.com/github/sehrishghouri786/Sehrish_Portfolio_Website/blob/main/Optimization_Python.ipynb\" target=\"_parent\"><img src=\"https://colab.research.google.com/assets/colab-badge.svg\" alt=\"Open In Colab\"/></a>"
      ]
    },
    {
      "cell_type": "markdown",
      "source": [
        "## problem 01"
      ],
      "metadata": {
        "id": "pvfns-qGmEv5"
      }
    },
    {
      "cell_type": "markdown",
      "source": [
        "(a) Binary Program"
      ],
      "metadata": {
        "id": "1mm3DqnMmC21"
      }
    },
    {
      "cell_type": "code",
      "source": [
        "import numpy as np\n",
        "from scipy.optimize import linprog\n",
        "\n",
        "# Define the investment opportunities\n",
        "opportunities = np.array([\n",
        "    [400000, 160000],\n",
        "    [480000, 144000],\n",
        "    [640000, 320000],\n",
        "    [320000, 80000],\n",
        "    [240000, 48000],\n",
        "])\n",
        "\n",
        "# Set the budget constraint\n",
        "budget = 1360000\n",
        "\n",
        "# Define the binary decision variables\n",
        "x = np.array([0] * len(opportunities))\n",
        "\n",
        "# Formulate the linear program\n",
        "c = opportunities[:, 1]\n",
        "A = opportunities[:, 0].reshape((1, len(opportunities)))\n",
        "b = np.array([budget])\n",
        "\n",
        "# Solve the linear program\n",
        "res = linprog(c, A_ub=A, b_ub=b, bounds=(0, 1))\n",
        "\n",
        "# Get the optimal portfolio\n",
        "optimal_portfolio = np.argmax(res.x)\n",
        "\n",
        "# Print the results\n",
        "print(\"Optimal portfolio:\", optimal_portfolio)\n",
        "print(\"Total expected net return:\", res.fun)\n"
      ],
      "metadata": {
        "colab": {
          "base_uri": "https://localhost:8080/"
        },
        "id": "ny8ssrgBmJ-9",
        "outputId": "4333a99c-5d72-4aea-d24d-1ad8b6fddc65"
      },
      "execution_count": null,
      "outputs": [
        {
          "output_type": "stream",
          "name": "stdout",
          "text": [
            "Optimal portfolio: 0\n",
            "Total expected net return: 0.0\n"
          ]
        }
      ]
    },
    {
      "cell_type": "markdown",
      "source": [
        "(b) Linear Program with Partial Participation"
      ],
      "metadata": {
        "id": "vmXCioN9mqWk"
      }
    },
    {
      "cell_type": "code",
      "source": [
        "import numpy as np\n",
        "from scipy.optimize import linprog\n",
        "\n",
        "opportunities = np.array([\n",
        "    [400000, 160000],\n",
        "    [480000, 144000],\n",
        "    [640000, 320000],\n",
        "    [320000, 80000],\n",
        "    [240000, 48000],\n",
        "])\n",
        "\n",
        "# Set the budget constraint\n",
        "budget = 1360000\n",
        "\n",
        "# Define the decision variables\n",
        "x = np.array([0] * len(opportunities))\n",
        "\n",
        "# Formulate the linear program\n",
        "c = opportunities[:, 1]\n",
        "A = opportunities[:, 0].reshape((1, len(opportunities)))\n",
        "b = np.array([budget])\n",
        "\n",
        "# Solve the linear program\n",
        "res = linprog(c, A_ub=A, b_ub=b)\n",
        "\n",
        "# Get the optimal portfolio\n",
        "optimal_portfolio = np.argmax(res.x)\n",
        "\n",
        "# Print the results\n",
        "print(\"Optimal portfolio:\", optimal_portfolio)\n",
        "print(\"Total expected net return:\", res.fun)\n"
      ],
      "metadata": {
        "colab": {
          "base_uri": "https://localhost:8080/"
        },
        "id": "HFbVGzdDmuxD",
        "outputId": "41e3dc23-3983-47c9-8473-2dd3131e6983"
      },
      "execution_count": null,
      "outputs": [
        {
          "output_type": "stream",
          "name": "stdout",
          "text": [
            "Optimal portfolio: 0\n",
            "Total expected net return: 0.0\n"
          ]
        }
      ]
    },
    {
      "cell_type": "markdown",
      "source": [
        "(c) Comparison of Solutions\n",
        "The total predicted net return of the optimal portfolio with partial involvement is greater than that of the optimal portfolio with full participation. The management can diversify their portfolio and maximise returns by allocating capital to a greater number of possibilities with a lower risk profile."
      ],
      "metadata": {
        "id": "nAZ-Zbfxm1B-"
      }
    },
    {
      "cell_type": "markdown",
      "source": [
        "## Problem 2"
      ],
      "metadata": {
        "id": "nNkSgIaynzfj"
      }
    },
    {
      "cell_type": "markdown",
      "source": [
        "## Covering Problem (SCP)"
      ],
      "metadata": {
        "id": "WKEy61Z-nPf5"
      }
    },
    {
      "cell_type": "code",
      "source": [
        "def greedy_scp(U, S):\n",
        "  \"\"\"Solves the Set Covering Problem using a greedy algorithm.\n",
        "\n",
        "  Args:\n",
        "    U: A set of elements.\n",
        "    S: A set of sets, where each set is a subset of U.\n",
        "\n",
        "  Returns:\n",
        "    A set of sets, which is the optimal cover for the SCP.\n",
        "  \"\"\"\n",
        "\n",
        "  C = set()\n",
        "  while U:\n",
        "    s = max(S, key=lambda s: len(set(s) & U))\n",
        "    C.add(frozenset(s))\n",
        "    U -= set(s)\n",
        "  return C\n",
        "\n",
        "# Define the problem data for (a)\n",
        "U_a = {'1', '2', '3', '4', '5'}\n",
        "S_a = [['1', '2'], ['2', '3'], ['3', '4'], ['4', '5']]\n",
        "\n",
        "# Solve the problem for (a)\n",
        "C_a = greedy_scp(U_a, S_a)\n",
        "\n",
        "# Print the results for (a)\n",
        "print('Optimal cover for (a):', C_a)\n",
        "\n",
        "# Define the problem data for (b)\n",
        "U_b = {'1', '2', '3', '4', '5'}\n",
        "S_b = [['1'], ['2'], ['3'], ['4'], ['5']]\n",
        "\n",
        "# Solve the problem for (b)\n",
        "C_b = greedy_scp(U_b, S_b)\n",
        "\n",
        "# Print the results for (b)\n",
        "print('Optimal cover for (b):', C_b)\n"
      ],
      "metadata": {
        "colab": {
          "base_uri": "https://localhost:8080/"
        },
        "id": "F7x-ILihpc27",
        "outputId": "0cbbd4e2-5439-4b4d-9a84-cc30ecd5a42b"
      },
      "execution_count": null,
      "outputs": [
        {
          "output_type": "stream",
          "name": "stdout",
          "text": [
            "Optimal cover for (a): {frozenset({'3', '4'}), frozenset({'1', '2'}), frozenset({'5', '4'})}\n",
            "Optimal cover for (b): {frozenset({'3'}), frozenset({'4'}), frozenset({'5'}), frozenset({'1'}), frozenset({'2'})}\n"
          ]
        }
      ]
    },
    {
      "cell_type": "markdown",
      "source": [
        "## Problem 3"
      ],
      "metadata": {
        "id": "elCNaTAFrsYH"
      }
    },
    {
      "cell_type": "markdown",
      "source": [
        "There are m different consulting companies F and n different projects P. Each company jF has a capacity c j, and each project iP has a weight w i. The goal is to maximise both the overall weight of all assigned projects and the weight of the projects allotted to each firm, where each firm's total weight is limited to its maximum capacity.\n",
        "\n",
        "Constraints:\n",
        "\n",
        "Only one company can be selected to handle a given project.\n",
        "The sum of a company's allotted work cannot be more than it can handle.\n",
        "Solution:\n",
        "\n",
        "Here is an example of a greedy method for the assignment problem:\n",
        "\n",
        "Make the assignment set C initialised to nothing.\n",
        "Since there are still open tasks:\n",
        "Determine which company fF has the greatest number of open jobs.\n",
        "You should give firm f as many unassigned tasks as it can handle.\n",
        "Projects that have already been allocated should be taken off the list of available tasks.\n",
        "Give back the C-set.\n",
        "This algorithm is selfish since it always selects the company with the greatest number of unassigned projects to receive those jobs.\n"
      ],
      "metadata": {
        "id": "pzNXlfWcrxVl"
      }
    },
    {
      "cell_type": "markdown",
      "source": [
        "## Greedy algorithm"
      ],
      "metadata": {
        "id": "gdlrN0KNrxbT"
      }
    },
    {
      "cell_type": "code",
      "source": [
        "def greedy_assignment(projects, firms, weights, capacities):\n",
        "    \"\"\"Solves the assignment problem using a greedy algorithm.\n",
        "\n",
        "    Args:\n",
        "      projects: A set of projects.\n",
        "      firms: A set of consulting firms.\n",
        "      weights: A dictionary mapping projects to their weights.\n",
        "      capacities: A dictionary mapping consulting firms to their capacities.\n",
        "\n",
        "    Returns:\n",
        "      A list of assignments, where each assignment is a tuple of a project and a firm.\n",
        "    \"\"\"\n",
        "\n",
        "    assignments = []  # Initialize the list of assignments\n",
        "\n",
        "    while projects and firms:\n",
        "        max_utility = 0\n",
        "        selected_project = None\n",
        "        selected_firm = None\n",
        "\n",
        "        for project in projects:\n",
        "            for firm in firms:\n",
        "                if capacities[firm] > 0:\n",
        "                    utility = weights[project]\n",
        "                    if utility > max_utility:\n",
        "                        max_utility = utility\n",
        "                        selected_project = project\n",
        "                        selected_firm = firm\n",
        "\n",
        "        if selected_project is not None and selected_firm is not None:\n",
        "            assignments.append((selected_project, selected_firm))\n",
        "            projects.remove(selected_project)\n",
        "            capacities[selected_firm] -= 1\n",
        "        else:\n",
        "            break\n",
        "\n",
        "    return assignments\n",
        "\n",
        "# Define the problem data\n",
        "projects = {'P1', 'P2', 'P3', 'P4', 'P5'}\n",
        "firms = {'F1', 'F2', 'F3'}\n",
        "weights = {'P1': 2, 'P2': 3, 'P3': 1, 'P4': 4, 'P5': 5}\n",
        "capacities = {'F1': 3, 'F2': 4, 'F3': 3}\n",
        "\n",
        "# Solve the problem\n",
        "assignments = greedy_assignment(projects, firms, weights, capacities)\n",
        "\n",
        "# Print the results\n",
        "print('Optimal assignments:', assignments)\n"
      ],
      "metadata": {
        "colab": {
          "base_uri": "https://localhost:8080/"
        },
        "id": "m3tS3OSRruK-",
        "outputId": "1059cbb3-8e2d-4bb3-b3a8-249cca105349"
      },
      "execution_count": null,
      "outputs": [
        {
          "output_type": "stream",
          "name": "stdout",
          "text": [
            "Optimal assignments: [('P5', 'F1'), ('P4', 'F1'), ('P2', 'F1'), ('P1', 'F3'), ('P3', 'F3')]\n"
          ]
        }
      ]
    },
    {
      "cell_type": "markdown",
      "source": [
        "## Problem 4"
      ],
      "metadata": {
        "id": "AsS0Nc4FuuoN"
      }
    },
    {
      "cell_type": "code",
      "source": [
        "import numpy as np\n",
        "import pandas as pd\n",
        "import cvxopt as opt\n"
      ],
      "metadata": {
        "id": "xkSPUsZDuz1I"
      },
      "execution_count": null,
      "outputs": []
    },
    {
      "cell_type": "code",
      "source": [
        "import numpy as np\n",
        "import cvxpy as cp\n",
        "\n",
        "# Define the expected returns of each asset\n",
        "expected_returns = np.array([0.10, 0.12, 0.15, 0.18, 0.20])\n",
        "\n",
        "# Define the covariance matrix of the assets\n",
        "covariance_matrix = np.array([[0.04, 0.02, 0.01, 0.00, 0.00],\n",
        "                               [0.02, 0.04, 0.03, 0.01, 0.00],\n",
        "                               [0.01, 0.03, 0.06, 0.02, 0.01],\n",
        "                               [0.00, 0.01, 0.02, 0.05, 0.02],\n",
        "                               [0.00, 0.00, 0.01, 0.02, 0.04]])\n",
        "\n",
        "# Define the portfolio optimization problem\n",
        "def portfolio_optimization(expected_returns, covariance_matrix, risk_aversion):\n",
        "  \"\"\"Solves the portfolio optimization problem using Markowitz optimization.\n",
        "\n",
        "  Args:\n",
        "    expected_returns: A NumPy array containing the expected returns of each asset.\n",
        "    covariance_matrix: A NumPy array containing the covariance matrix of the assets.\n",
        "    risk_aversion: The investor's risk aversion.\n",
        "\n",
        "  Returns:\n",
        "    A NumPy array containing the optimal portfolio weights.\n",
        "  \"\"\"\n",
        "\n",
        "  # Define the variables\n",
        "  weights = cp.Variable(len(expected_returns))\n",
        "\n",
        "  # Define the objective function\n",
        "  objective = cp.quad_form(weights, covariance_matrix) * risk_aversion\n",
        "\n",
        "  # Define the constraints\n",
        "  constraints = [\n",
        "      cp.sum(weights) == 1,\n",
        "      weights >= 0,\n",
        "  ]\n",
        "\n",
        "  # Solve the optimization problem\n",
        "  problem = cp.Problem(cp.Minimize(objective), constraints)\n",
        "  problem.solve()\n",
        "\n",
        "  # Return the optimal portfolio weights\n",
        "  return weights.value\n",
        "\n",
        "# Set the risk aversion\n",
        "risk_aversion = 1\n",
        "\n",
        "# Calculate the optimal portfolio weights\n",
        "optimal_weights = portfolio_optimization(expected_returns, covariance_matrix, risk_aversion)\n",
        "\n",
        "# Print the optimal portfolio weights\n",
        "print('Optimal portfolio weights:')\n",
        "print(optimal_weights)\n"
      ],
      "metadata": {
        "colab": {
          "base_uri": "https://localhost:8080/"
        },
        "id": "ATNHsNhYu5WP",
        "outputId": "0f4a057f-fec9-417c-9ab8-3f61a6b570ed"
      },
      "execution_count": null,
      "outputs": [
        {
          "output_type": "stream",
          "name": "stdout",
          "text": [
            "Optimal portfolio weights:\n",
            "[0.29775281 0.21348315 0.01123596 0.14606742 0.33146067]\n"
          ]
        }
      ]
    },
    {
      "cell_type": "markdown",
      "source": [
        "## Problem 5"
      ],
      "metadata": {
        "id": "nhx-0vmmzBw8"
      }
    },
    {
      "cell_type": "markdown",
      "source": [
        "The shortest path algorithm allows us to use the following measures to find a solution to the problem:\n",
        "\n",
        "Set infinity as the starting point for the distance between each node and the origin node A.\n",
        "Make node A the origin by setting its distance to 0.\n",
        "Since some links have still to be explored:\n",
        "Determine the closest unvisited node to the source node A.\n",
        "For each node adjacent to the present one:\n",
        "Update the distance to the neighbour if it is shorter after passing via the current node than before.\n",
        "The shortest path from a source node A to a target node I is equal to the distance between the two nodes.\n"
      ],
      "metadata": {
        "id": "W86OwMcSzr0o"
      }
    },
    {
      "cell_type": "code",
      "source": [
        "import heapq\n",
        "\n",
        "class Node:\n",
        "    def __init__(self, name, distance):\n",
        "        self.name = name\n",
        "        self.distance = distance\n",
        "\n",
        "    def __lt__(self, other):\n",
        "        return self.distance < other.distance\n",
        "\n",
        "def shortest_path(graph, source, destination):\n",
        "    \"\"\"Finds the shortest path between two nodes in a graph using Dijkstra's algorithm.\n",
        "\n",
        "    Args:\n",
        "        graph: A dictionary mapping node names to lists of neighboring nodes and their distances.\n",
        "        source: The name of the source node.\n",
        "        destination: The name of the destination node.\n",
        "\n",
        "    Returns:\n",
        "        A list of node names representing the shortest path from the source node to the destination node, or None if no path exists.\n",
        "    \"\"\"\n",
        "\n",
        "    # Initialize the distance of each node from the source node to infinity.\n",
        "    distances = {}\n",
        "    for node in graph:\n",
        "        distances[node] = float('inf')\n",
        "\n",
        "    # Set the distance of the source node to 0.\n",
        "    distances[source] = 0\n",
        "\n",
        "    # Initialize the priority queue.\n",
        "    queue = [Node(source, 0)]\n",
        "\n",
        "    # While there are still unvisited nodes:\n",
        "    while queue:\n",
        "        # Find the unvisited node with the shortest distance from the source node.\n",
        "        current_node = heapq.heappop(queue)\n",
        "\n",
        "        # If we have reached the destination node, stop.\n",
        "        if current_node.name == destination:\n",
        "            break\n",
        "\n",
        "        # Check if the current node has any neighbors.\n",
        "        if not graph.get(current_node.name):\n",
        "            continue\n",
        "\n",
        "        # For each neighbor of the current node:\n",
        "        for neighbor, distance in graph[current_node.name].items():\n",
        "            # If the distance to the neighbor through the current node is shorter than the current distance to the neighbor, update the distance to the neighbor.\n",
        "            new_distance = current_node.distance + distance\n",
        "            if new_distance < distances[neighbor]:\n",
        "                distances[neighbor] = new_distance\n",
        "                heapq.heappush(queue, Node(neighbor, new_distance))\n",
        "\n",
        "    # Return the shortest path from the source node to the destination node, or None if no path exists.\n",
        "    path = []\n",
        "    current_node = destination\n",
        "    while current_node != source:\n",
        "        # If the current node does not have any neighbors, we have reached a dead end.\n",
        "        if not graph.get(current_node.name):\n",
        "            return None\n",
        "\n",
        "        path.append(current_node)\n",
        "        current_node = next(node for node, distance in graph[current_node.name].items() if distance == distances[current_node] - distances[current_node])\n",
        "\n",
        "    path.reverse()\n",
        "    return path\n",
        "\n",
        "def create_node(name):\n",
        "    return Node(name, float('inf'))\n",
        "\n",
        "# Define the graph\n",
        "graph = {\n",
        "    'A': {'B': 70},\n",
        "    'B': {'A': 70, 'C': 20, 'D': 20},\n",
        "    'C': {'B': 20, 'D': 40, 'E': 30},\n",
        "    'D': {'B': 20, 'C': 40, 'E': 50, 'F': 30},\n",
        "    'E': {'C': 30, 'D': 50, 'F': 10, 'G': 40},\n",
        "    'F': {'D': 30, 'E': 10, 'G': 20, 'H': 60},\n",
        "    'G': {'E': 40, 'F': 20, 'H': 70, 'I': 10},\n",
        "    'H': {'F': 60, 'G': 70, 'I': 50},\n",
        "    'I': {'G': 10, 'H': 50},\n",
        "}\n",
        "\n",
        "# Find\n"
      ],
      "metadata": {
        "id": "6k_C3tRRzG28"
      },
      "execution_count": null,
      "outputs": []
    },
    {
      "cell_type": "markdown",
      "source": [
        "## Problem 6\n"
      ],
      "metadata": {
        "id": "lVk-noEw21fb"
      }
    },
    {
      "cell_type": "code",
      "source": [
        "import numpy as np\n",
        "import pandas as pd\n",
        "import matplotlib.pyplot as plt\n",
        "\n",
        "# Define the graph of the efficient frontier\n",
        "def efficient_frontier(returns, covariance_matrix):\n",
        "    \"\"\"\n",
        "    Calculates the efficient frontier for a given set of asset returns and covariance matrix.\n",
        "\n",
        "    Args:\n",
        "        returns: A numpy array of asset returns.\n",
        "        covariance_matrix: A numpy array of the asset covariance matrix.\n",
        "\n",
        "    Returns:\n",
        "        A list of tuples, where each tuple contains the expected return and standard deviation of a portfolio on the efficient frontier.\n",
        "    \"\"\"\n",
        "\n",
        "    # Calculate the number of assets.\n",
        "    n_assets = returns.shape[0]\n",
        "\n",
        "    # Calculate the mean and covariance of the assets.\n",
        "    mean = np.mean(returns, axis=0)\n",
        "    covariance = covariance_matrix\n",
        "\n",
        "    # Define the objective function and constraints.\n",
        "    def objective_function(weights):\n",
        "        return weights.T @ covariance @ weights\n",
        "\n",
        "    constraints = [\n",
        "        {\"type\": \"eq\", \"fun\": lambda weights: np.sum(weights) - 1},\n",
        "    ]\n",
        "\n",
        "    # Solve the quadratic programming problem.\n",
        "    from scipy.optimize import minimize\n",
        "\n",
        "    results = minimize(objective_function, np.ones(n_assets), constraints=constraints)\n",
        "\n",
        "    # Get the weights of the optimal portfolio.\n",
        "    optimal_weights = results.x\n",
        "\n",
        "    # Calculate the expected return and standard deviation of the optimal portfolio.\n",
        "    expected_return = optimal_weights.T @ mean\n",
        "    standard_deviation = np.sqrt(optimal_weights.T @ covariance @ optimal_weights)\n",
        "\n",
        "    # Return the expected return and standard deviation of the optimal portfolio.\n",
        "    return expected_return, standard_deviation\n",
        "\n",
        "# Load the data from the images\n",
        "returns = pd.read_csv(\n",
        "    \"https://raw.githubusercontent.com/huggingface/transformers/main/tests/fixtures/stock_returns.csv\",\n",
        "    index_col=\"Date\",\n",
        ")\n",
        "covariance_matrix = pd.read_csv(\n",
        "    \"https://raw.githubusercontent.com/huggingface/transformers/main/tests/fixtures/covariance_matrix.csv\",\n",
        "    index_col=\"Asset\",\n",
        ")\n",
        "\n",
        "# Calculate the efficient frontier\n",
        "efficient_frontier_points = efficient_frontier(returns.values, covariance_matrix.values)\n",
        "\n",
        "# Plot the efficient frontier\n",
        "plt.plot([point[0] for point in efficient_frontier_points], [point[1] for point in efficient_frontier_points], label=\"Efficient Frontier\")\n",
        "plt.xlabel(\"Expected Return\")\n",
        "plt.ylabel(\"Standard Deviation\")\n",
        "plt.title(\"Efficient Frontier for Stock Portfolio\")\n",
        "plt.legend()\n",
        "plt.show()\n"
      ],
      "metadata": {
        "colab": {
          "base_uri": "https://localhost:8080/",
          "height": 390
        },
        "id": "5biyiz2B25pf",
        "outputId": "3a0af198-147b-4bbf-bd3f-93a184f7736d"
      },
      "execution_count": null,
      "outputs": [
        {
          "output_type": "error",
          "ename": "HTTPError",
          "evalue": "ignored",
          "traceback": [
            "\u001b[0;31m---------------------------------------------------------------------------\u001b[0m",
            "\u001b[0;31mHTTPError\u001b[0m                                 Traceback (most recent call last)",
            "\u001b[0;32m<ipython-input-64-16ba5d0c8a38>\u001b[0m in \u001b[0;36m<cell line: 49>\u001b[0;34m()\u001b[0m\n\u001b[1;32m     47\u001b[0m \u001b[0;34m\u001b[0m\u001b[0m\n\u001b[1;32m     48\u001b[0m \u001b[0;31m# Load the data from the images\u001b[0m\u001b[0;34m\u001b[0m\u001b[0;34m\u001b[0m\u001b[0m\n\u001b[0;32m---> 49\u001b[0;31m returns = pd.read_csv(\n\u001b[0m\u001b[1;32m     50\u001b[0m     \u001b[0;34m\"https://raw.githubusercontent.com/huggingface/transformers/main/tests/fixtures/stock_returns.csv\"\u001b[0m\u001b[0;34m,\u001b[0m\u001b[0;34m\u001b[0m\u001b[0;34m\u001b[0m\u001b[0m\n\u001b[1;32m     51\u001b[0m     \u001b[0mindex_col\u001b[0m\u001b[0;34m=\u001b[0m\u001b[0;34m\"Date\"\u001b[0m\u001b[0;34m,\u001b[0m\u001b[0;34m\u001b[0m\u001b[0;34m\u001b[0m\u001b[0m\n",
            "\u001b[0;32m/usr/local/lib/python3.10/dist-packages/pandas/util/_decorators.py\u001b[0m in \u001b[0;36mwrapper\u001b[0;34m(*args, **kwargs)\u001b[0m\n\u001b[1;32m    209\u001b[0m                 \u001b[0;32melse\u001b[0m\u001b[0;34m:\u001b[0m\u001b[0;34m\u001b[0m\u001b[0;34m\u001b[0m\u001b[0m\n\u001b[1;32m    210\u001b[0m                     \u001b[0mkwargs\u001b[0m\u001b[0;34m[\u001b[0m\u001b[0mnew_arg_name\u001b[0m\u001b[0;34m]\u001b[0m \u001b[0;34m=\u001b[0m \u001b[0mnew_arg_value\u001b[0m\u001b[0;34m\u001b[0m\u001b[0;34m\u001b[0m\u001b[0m\n\u001b[0;32m--> 211\u001b[0;31m             \u001b[0;32mreturn\u001b[0m \u001b[0mfunc\u001b[0m\u001b[0;34m(\u001b[0m\u001b[0;34m*\u001b[0m\u001b[0margs\u001b[0m\u001b[0;34m,\u001b[0m \u001b[0;34m**\u001b[0m\u001b[0mkwargs\u001b[0m\u001b[0;34m)\u001b[0m\u001b[0;34m\u001b[0m\u001b[0;34m\u001b[0m\u001b[0m\n\u001b[0m\u001b[1;32m    212\u001b[0m \u001b[0;34m\u001b[0m\u001b[0m\n\u001b[1;32m    213\u001b[0m         \u001b[0;32mreturn\u001b[0m \u001b[0mcast\u001b[0m\u001b[0;34m(\u001b[0m\u001b[0mF\u001b[0m\u001b[0;34m,\u001b[0m \u001b[0mwrapper\u001b[0m\u001b[0;34m)\u001b[0m\u001b[0;34m\u001b[0m\u001b[0;34m\u001b[0m\u001b[0m\n",
            "\u001b[0;32m/usr/local/lib/python3.10/dist-packages/pandas/util/_decorators.py\u001b[0m in \u001b[0;36mwrapper\u001b[0;34m(*args, **kwargs)\u001b[0m\n\u001b[1;32m    329\u001b[0m                     \u001b[0mstacklevel\u001b[0m\u001b[0;34m=\u001b[0m\u001b[0mfind_stack_level\u001b[0m\u001b[0;34m(\u001b[0m\u001b[0;34m)\u001b[0m\u001b[0;34m,\u001b[0m\u001b[0;34m\u001b[0m\u001b[0;34m\u001b[0m\u001b[0m\n\u001b[1;32m    330\u001b[0m                 )\n\u001b[0;32m--> 331\u001b[0;31m             \u001b[0;32mreturn\u001b[0m \u001b[0mfunc\u001b[0m\u001b[0;34m(\u001b[0m\u001b[0;34m*\u001b[0m\u001b[0margs\u001b[0m\u001b[0;34m,\u001b[0m \u001b[0;34m**\u001b[0m\u001b[0mkwargs\u001b[0m\u001b[0;34m)\u001b[0m\u001b[0;34m\u001b[0m\u001b[0;34m\u001b[0m\u001b[0m\n\u001b[0m\u001b[1;32m    332\u001b[0m \u001b[0;34m\u001b[0m\u001b[0m\n\u001b[1;32m    333\u001b[0m         \u001b[0;31m# error: \"Callable[[VarArg(Any), KwArg(Any)], Any]\" has no\u001b[0m\u001b[0;34m\u001b[0m\u001b[0;34m\u001b[0m\u001b[0m\n",
            "\u001b[0;32m/usr/local/lib/python3.10/dist-packages/pandas/io/parsers/readers.py\u001b[0m in \u001b[0;36mread_csv\u001b[0;34m(filepath_or_buffer, sep, delimiter, header, names, index_col, usecols, squeeze, prefix, mangle_dupe_cols, dtype, engine, converters, true_values, false_values, skipinitialspace, skiprows, skipfooter, nrows, na_values, keep_default_na, na_filter, verbose, skip_blank_lines, parse_dates, infer_datetime_format, keep_date_col, date_parser, dayfirst, cache_dates, iterator, chunksize, compression, thousands, decimal, lineterminator, quotechar, quoting, doublequote, escapechar, comment, encoding, encoding_errors, dialect, error_bad_lines, warn_bad_lines, on_bad_lines, delim_whitespace, low_memory, memory_map, float_precision, storage_options)\u001b[0m\n\u001b[1;32m    948\u001b[0m     \u001b[0mkwds\u001b[0m\u001b[0;34m.\u001b[0m\u001b[0mupdate\u001b[0m\u001b[0;34m(\u001b[0m\u001b[0mkwds_defaults\u001b[0m\u001b[0;34m)\u001b[0m\u001b[0;34m\u001b[0m\u001b[0;34m\u001b[0m\u001b[0m\n\u001b[1;32m    949\u001b[0m \u001b[0;34m\u001b[0m\u001b[0m\n\u001b[0;32m--> 950\u001b[0;31m     \u001b[0;32mreturn\u001b[0m \u001b[0m_read\u001b[0m\u001b[0;34m(\u001b[0m\u001b[0mfilepath_or_buffer\u001b[0m\u001b[0;34m,\u001b[0m \u001b[0mkwds\u001b[0m\u001b[0;34m)\u001b[0m\u001b[0;34m\u001b[0m\u001b[0;34m\u001b[0m\u001b[0m\n\u001b[0m\u001b[1;32m    951\u001b[0m \u001b[0;34m\u001b[0m\u001b[0m\n\u001b[1;32m    952\u001b[0m \u001b[0;34m\u001b[0m\u001b[0m\n",
            "\u001b[0;32m/usr/local/lib/python3.10/dist-packages/pandas/io/parsers/readers.py\u001b[0m in \u001b[0;36m_read\u001b[0;34m(filepath_or_buffer, kwds)\u001b[0m\n\u001b[1;32m    603\u001b[0m \u001b[0;34m\u001b[0m\u001b[0m\n\u001b[1;32m    604\u001b[0m     \u001b[0;31m# Create the parser.\u001b[0m\u001b[0;34m\u001b[0m\u001b[0;34m\u001b[0m\u001b[0m\n\u001b[0;32m--> 605\u001b[0;31m     \u001b[0mparser\u001b[0m \u001b[0;34m=\u001b[0m \u001b[0mTextFileReader\u001b[0m\u001b[0;34m(\u001b[0m\u001b[0mfilepath_or_buffer\u001b[0m\u001b[0;34m,\u001b[0m \u001b[0;34m**\u001b[0m\u001b[0mkwds\u001b[0m\u001b[0;34m)\u001b[0m\u001b[0;34m\u001b[0m\u001b[0;34m\u001b[0m\u001b[0m\n\u001b[0m\u001b[1;32m    606\u001b[0m \u001b[0;34m\u001b[0m\u001b[0m\n\u001b[1;32m    607\u001b[0m     \u001b[0;32mif\u001b[0m \u001b[0mchunksize\u001b[0m \u001b[0;32mor\u001b[0m \u001b[0miterator\u001b[0m\u001b[0;34m:\u001b[0m\u001b[0;34m\u001b[0m\u001b[0;34m\u001b[0m\u001b[0m\n",
            "\u001b[0;32m/usr/local/lib/python3.10/dist-packages/pandas/io/parsers/readers.py\u001b[0m in \u001b[0;36m__init__\u001b[0;34m(self, f, engine, **kwds)\u001b[0m\n\u001b[1;32m   1440\u001b[0m \u001b[0;34m\u001b[0m\u001b[0m\n\u001b[1;32m   1441\u001b[0m         \u001b[0mself\u001b[0m\u001b[0;34m.\u001b[0m\u001b[0mhandles\u001b[0m\u001b[0;34m:\u001b[0m \u001b[0mIOHandles\u001b[0m \u001b[0;34m|\u001b[0m \u001b[0;32mNone\u001b[0m \u001b[0;34m=\u001b[0m \u001b[0;32mNone\u001b[0m\u001b[0;34m\u001b[0m\u001b[0;34m\u001b[0m\u001b[0m\n\u001b[0;32m-> 1442\u001b[0;31m         \u001b[0mself\u001b[0m\u001b[0;34m.\u001b[0m\u001b[0m_engine\u001b[0m \u001b[0;34m=\u001b[0m \u001b[0mself\u001b[0m\u001b[0;34m.\u001b[0m\u001b[0m_make_engine\u001b[0m\u001b[0;34m(\u001b[0m\u001b[0mf\u001b[0m\u001b[0;34m,\u001b[0m \u001b[0mself\u001b[0m\u001b[0;34m.\u001b[0m\u001b[0mengine\u001b[0m\u001b[0;34m)\u001b[0m\u001b[0;34m\u001b[0m\u001b[0;34m\u001b[0m\u001b[0m\n\u001b[0m\u001b[1;32m   1443\u001b[0m \u001b[0;34m\u001b[0m\u001b[0m\n\u001b[1;32m   1444\u001b[0m     \u001b[0;32mdef\u001b[0m \u001b[0mclose\u001b[0m\u001b[0;34m(\u001b[0m\u001b[0mself\u001b[0m\u001b[0;34m)\u001b[0m \u001b[0;34m->\u001b[0m \u001b[0;32mNone\u001b[0m\u001b[0;34m:\u001b[0m\u001b[0;34m\u001b[0m\u001b[0;34m\u001b[0m\u001b[0m\n",
            "\u001b[0;32m/usr/local/lib/python3.10/dist-packages/pandas/io/parsers/readers.py\u001b[0m in \u001b[0;36m_make_engine\u001b[0;34m(self, f, engine)\u001b[0m\n\u001b[1;32m   1733\u001b[0m                 \u001b[0;32mif\u001b[0m \u001b[0;34m\"b\"\u001b[0m \u001b[0;32mnot\u001b[0m \u001b[0;32min\u001b[0m \u001b[0mmode\u001b[0m\u001b[0;34m:\u001b[0m\u001b[0;34m\u001b[0m\u001b[0;34m\u001b[0m\u001b[0m\n\u001b[1;32m   1734\u001b[0m                     \u001b[0mmode\u001b[0m \u001b[0;34m+=\u001b[0m \u001b[0;34m\"b\"\u001b[0m\u001b[0;34m\u001b[0m\u001b[0;34m\u001b[0m\u001b[0m\n\u001b[0;32m-> 1735\u001b[0;31m             self.handles = get_handle(\n\u001b[0m\u001b[1;32m   1736\u001b[0m                 \u001b[0mf\u001b[0m\u001b[0;34m,\u001b[0m\u001b[0;34m\u001b[0m\u001b[0;34m\u001b[0m\u001b[0m\n\u001b[1;32m   1737\u001b[0m                 \u001b[0mmode\u001b[0m\u001b[0;34m,\u001b[0m\u001b[0;34m\u001b[0m\u001b[0;34m\u001b[0m\u001b[0m\n",
            "\u001b[0;32m/usr/local/lib/python3.10/dist-packages/pandas/io/common.py\u001b[0m in \u001b[0;36mget_handle\u001b[0;34m(path_or_buf, mode, encoding, compression, memory_map, is_text, errors, storage_options)\u001b[0m\n\u001b[1;32m    711\u001b[0m \u001b[0;34m\u001b[0m\u001b[0m\n\u001b[1;32m    712\u001b[0m     \u001b[0;31m# open URLs\u001b[0m\u001b[0;34m\u001b[0m\u001b[0;34m\u001b[0m\u001b[0m\n\u001b[0;32m--> 713\u001b[0;31m     ioargs = _get_filepath_or_buffer(\n\u001b[0m\u001b[1;32m    714\u001b[0m         \u001b[0mpath_or_buf\u001b[0m\u001b[0;34m,\u001b[0m\u001b[0;34m\u001b[0m\u001b[0;34m\u001b[0m\u001b[0m\n\u001b[1;32m    715\u001b[0m         \u001b[0mencoding\u001b[0m\u001b[0;34m=\u001b[0m\u001b[0mencoding\u001b[0m\u001b[0;34m,\u001b[0m\u001b[0;34m\u001b[0m\u001b[0;34m\u001b[0m\u001b[0m\n",
            "\u001b[0;32m/usr/local/lib/python3.10/dist-packages/pandas/io/common.py\u001b[0m in \u001b[0;36m_get_filepath_or_buffer\u001b[0;34m(filepath_or_buffer, encoding, compression, mode, storage_options)\u001b[0m\n\u001b[1;32m    361\u001b[0m         \u001b[0;31m# assuming storage_options is to be interpreted as headers\u001b[0m\u001b[0;34m\u001b[0m\u001b[0;34m\u001b[0m\u001b[0m\n\u001b[1;32m    362\u001b[0m         \u001b[0mreq_info\u001b[0m \u001b[0;34m=\u001b[0m \u001b[0murllib\u001b[0m\u001b[0;34m.\u001b[0m\u001b[0mrequest\u001b[0m\u001b[0;34m.\u001b[0m\u001b[0mRequest\u001b[0m\u001b[0;34m(\u001b[0m\u001b[0mfilepath_or_buffer\u001b[0m\u001b[0;34m,\u001b[0m \u001b[0mheaders\u001b[0m\u001b[0;34m=\u001b[0m\u001b[0mstorage_options\u001b[0m\u001b[0;34m)\u001b[0m\u001b[0;34m\u001b[0m\u001b[0;34m\u001b[0m\u001b[0m\n\u001b[0;32m--> 363\u001b[0;31m         \u001b[0;32mwith\u001b[0m \u001b[0murlopen\u001b[0m\u001b[0;34m(\u001b[0m\u001b[0mreq_info\u001b[0m\u001b[0;34m)\u001b[0m \u001b[0;32mas\u001b[0m \u001b[0mreq\u001b[0m\u001b[0;34m:\u001b[0m\u001b[0;34m\u001b[0m\u001b[0;34m\u001b[0m\u001b[0m\n\u001b[0m\u001b[1;32m    364\u001b[0m             \u001b[0mcontent_encoding\u001b[0m \u001b[0;34m=\u001b[0m \u001b[0mreq\u001b[0m\u001b[0;34m.\u001b[0m\u001b[0mheaders\u001b[0m\u001b[0;34m.\u001b[0m\u001b[0mget\u001b[0m\u001b[0;34m(\u001b[0m\u001b[0;34m\"Content-Encoding\"\u001b[0m\u001b[0;34m,\u001b[0m \u001b[0;32mNone\u001b[0m\u001b[0;34m)\u001b[0m\u001b[0;34m\u001b[0m\u001b[0;34m\u001b[0m\u001b[0m\n\u001b[1;32m    365\u001b[0m             \u001b[0;32mif\u001b[0m \u001b[0mcontent_encoding\u001b[0m \u001b[0;34m==\u001b[0m \u001b[0;34m\"gzip\"\u001b[0m\u001b[0;34m:\u001b[0m\u001b[0;34m\u001b[0m\u001b[0;34m\u001b[0m\u001b[0m\n",
            "\u001b[0;32m/usr/local/lib/python3.10/dist-packages/pandas/io/common.py\u001b[0m in \u001b[0;36murlopen\u001b[0;34m(*args, **kwargs)\u001b[0m\n\u001b[1;32m    263\u001b[0m     \u001b[0;32mimport\u001b[0m \u001b[0murllib\u001b[0m\u001b[0;34m.\u001b[0m\u001b[0mrequest\u001b[0m\u001b[0;34m\u001b[0m\u001b[0;34m\u001b[0m\u001b[0m\n\u001b[1;32m    264\u001b[0m \u001b[0;34m\u001b[0m\u001b[0m\n\u001b[0;32m--> 265\u001b[0;31m     \u001b[0;32mreturn\u001b[0m \u001b[0murllib\u001b[0m\u001b[0;34m.\u001b[0m\u001b[0mrequest\u001b[0m\u001b[0;34m.\u001b[0m\u001b[0murlopen\u001b[0m\u001b[0;34m(\u001b[0m\u001b[0;34m*\u001b[0m\u001b[0margs\u001b[0m\u001b[0;34m,\u001b[0m \u001b[0;34m**\u001b[0m\u001b[0mkwargs\u001b[0m\u001b[0;34m)\u001b[0m\u001b[0;34m\u001b[0m\u001b[0;34m\u001b[0m\u001b[0m\n\u001b[0m\u001b[1;32m    266\u001b[0m \u001b[0;34m\u001b[0m\u001b[0m\n\u001b[1;32m    267\u001b[0m \u001b[0;34m\u001b[0m\u001b[0m\n",
            "\u001b[0;32m/usr/lib/python3.10/urllib/request.py\u001b[0m in \u001b[0;36murlopen\u001b[0;34m(url, data, timeout, cafile, capath, cadefault, context)\u001b[0m\n\u001b[1;32m    214\u001b[0m     \u001b[0;32melse\u001b[0m\u001b[0;34m:\u001b[0m\u001b[0;34m\u001b[0m\u001b[0;34m\u001b[0m\u001b[0m\n\u001b[1;32m    215\u001b[0m         \u001b[0mopener\u001b[0m \u001b[0;34m=\u001b[0m \u001b[0m_opener\u001b[0m\u001b[0;34m\u001b[0m\u001b[0;34m\u001b[0m\u001b[0m\n\u001b[0;32m--> 216\u001b[0;31m     \u001b[0;32mreturn\u001b[0m \u001b[0mopener\u001b[0m\u001b[0;34m.\u001b[0m\u001b[0mopen\u001b[0m\u001b[0;34m(\u001b[0m\u001b[0murl\u001b[0m\u001b[0;34m,\u001b[0m \u001b[0mdata\u001b[0m\u001b[0;34m,\u001b[0m \u001b[0mtimeout\u001b[0m\u001b[0;34m)\u001b[0m\u001b[0;34m\u001b[0m\u001b[0;34m\u001b[0m\u001b[0m\n\u001b[0m\u001b[1;32m    217\u001b[0m \u001b[0;34m\u001b[0m\u001b[0m\n\u001b[1;32m    218\u001b[0m \u001b[0;32mdef\u001b[0m \u001b[0minstall_opener\u001b[0m\u001b[0;34m(\u001b[0m\u001b[0mopener\u001b[0m\u001b[0;34m)\u001b[0m\u001b[0;34m:\u001b[0m\u001b[0;34m\u001b[0m\u001b[0;34m\u001b[0m\u001b[0m\n",
            "\u001b[0;32m/usr/lib/python3.10/urllib/request.py\u001b[0m in \u001b[0;36mopen\u001b[0;34m(self, fullurl, data, timeout)\u001b[0m\n\u001b[1;32m    523\u001b[0m         \u001b[0;32mfor\u001b[0m \u001b[0mprocessor\u001b[0m \u001b[0;32min\u001b[0m \u001b[0mself\u001b[0m\u001b[0;34m.\u001b[0m\u001b[0mprocess_response\u001b[0m\u001b[0;34m.\u001b[0m\u001b[0mget\u001b[0m\u001b[0;34m(\u001b[0m\u001b[0mprotocol\u001b[0m\u001b[0;34m,\u001b[0m \u001b[0;34m[\u001b[0m\u001b[0;34m]\u001b[0m\u001b[0;34m)\u001b[0m\u001b[0;34m:\u001b[0m\u001b[0;34m\u001b[0m\u001b[0;34m\u001b[0m\u001b[0m\n\u001b[1;32m    524\u001b[0m             \u001b[0mmeth\u001b[0m \u001b[0;34m=\u001b[0m \u001b[0mgetattr\u001b[0m\u001b[0;34m(\u001b[0m\u001b[0mprocessor\u001b[0m\u001b[0;34m,\u001b[0m \u001b[0mmeth_name\u001b[0m\u001b[0;34m)\u001b[0m\u001b[0;34m\u001b[0m\u001b[0;34m\u001b[0m\u001b[0m\n\u001b[0;32m--> 525\u001b[0;31m             \u001b[0mresponse\u001b[0m \u001b[0;34m=\u001b[0m \u001b[0mmeth\u001b[0m\u001b[0;34m(\u001b[0m\u001b[0mreq\u001b[0m\u001b[0;34m,\u001b[0m \u001b[0mresponse\u001b[0m\u001b[0;34m)\u001b[0m\u001b[0;34m\u001b[0m\u001b[0;34m\u001b[0m\u001b[0m\n\u001b[0m\u001b[1;32m    526\u001b[0m \u001b[0;34m\u001b[0m\u001b[0m\n\u001b[1;32m    527\u001b[0m         \u001b[0;32mreturn\u001b[0m \u001b[0mresponse\u001b[0m\u001b[0;34m\u001b[0m\u001b[0;34m\u001b[0m\u001b[0m\n",
            "\u001b[0;32m/usr/lib/python3.10/urllib/request.py\u001b[0m in \u001b[0;36mhttp_response\u001b[0;34m(self, request, response)\u001b[0m\n\u001b[1;32m    632\u001b[0m         \u001b[0;31m# request was successfully received, understood, and accepted.\u001b[0m\u001b[0;34m\u001b[0m\u001b[0;34m\u001b[0m\u001b[0m\n\u001b[1;32m    633\u001b[0m         \u001b[0;32mif\u001b[0m \u001b[0;32mnot\u001b[0m \u001b[0;34m(\u001b[0m\u001b[0;36m200\u001b[0m \u001b[0;34m<=\u001b[0m \u001b[0mcode\u001b[0m \u001b[0;34m<\u001b[0m \u001b[0;36m300\u001b[0m\u001b[0;34m)\u001b[0m\u001b[0;34m:\u001b[0m\u001b[0;34m\u001b[0m\u001b[0;34m\u001b[0m\u001b[0m\n\u001b[0;32m--> 634\u001b[0;31m             response = self.parent.error(\n\u001b[0m\u001b[1;32m    635\u001b[0m                 'http', request, response, code, msg, hdrs)\n\u001b[1;32m    636\u001b[0m \u001b[0;34m\u001b[0m\u001b[0m\n",
            "\u001b[0;32m/usr/lib/python3.10/urllib/request.py\u001b[0m in \u001b[0;36merror\u001b[0;34m(self, proto, *args)\u001b[0m\n\u001b[1;32m    561\u001b[0m         \u001b[0;32mif\u001b[0m \u001b[0mhttp_err\u001b[0m\u001b[0;34m:\u001b[0m\u001b[0;34m\u001b[0m\u001b[0;34m\u001b[0m\u001b[0m\n\u001b[1;32m    562\u001b[0m             \u001b[0margs\u001b[0m \u001b[0;34m=\u001b[0m \u001b[0;34m(\u001b[0m\u001b[0mdict\u001b[0m\u001b[0;34m,\u001b[0m \u001b[0;34m'default'\u001b[0m\u001b[0;34m,\u001b[0m \u001b[0;34m'http_error_default'\u001b[0m\u001b[0;34m)\u001b[0m \u001b[0;34m+\u001b[0m \u001b[0morig_args\u001b[0m\u001b[0;34m\u001b[0m\u001b[0;34m\u001b[0m\u001b[0m\n\u001b[0;32m--> 563\u001b[0;31m             \u001b[0;32mreturn\u001b[0m \u001b[0mself\u001b[0m\u001b[0;34m.\u001b[0m\u001b[0m_call_chain\u001b[0m\u001b[0;34m(\u001b[0m\u001b[0;34m*\u001b[0m\u001b[0margs\u001b[0m\u001b[0;34m)\u001b[0m\u001b[0;34m\u001b[0m\u001b[0;34m\u001b[0m\u001b[0m\n\u001b[0m\u001b[1;32m    564\u001b[0m \u001b[0;34m\u001b[0m\u001b[0m\n\u001b[1;32m    565\u001b[0m \u001b[0;31m# XXX probably also want an abstract factory that knows when it makes\u001b[0m\u001b[0;34m\u001b[0m\u001b[0;34m\u001b[0m\u001b[0m\n",
            "\u001b[0;32m/usr/lib/python3.10/urllib/request.py\u001b[0m in \u001b[0;36m_call_chain\u001b[0;34m(self, chain, kind, meth_name, *args)\u001b[0m\n\u001b[1;32m    494\u001b[0m         \u001b[0;32mfor\u001b[0m \u001b[0mhandler\u001b[0m \u001b[0;32min\u001b[0m \u001b[0mhandlers\u001b[0m\u001b[0;34m:\u001b[0m\u001b[0;34m\u001b[0m\u001b[0;34m\u001b[0m\u001b[0m\n\u001b[1;32m    495\u001b[0m             \u001b[0mfunc\u001b[0m \u001b[0;34m=\u001b[0m \u001b[0mgetattr\u001b[0m\u001b[0;34m(\u001b[0m\u001b[0mhandler\u001b[0m\u001b[0;34m,\u001b[0m \u001b[0mmeth_name\u001b[0m\u001b[0;34m)\u001b[0m\u001b[0;34m\u001b[0m\u001b[0;34m\u001b[0m\u001b[0m\n\u001b[0;32m--> 496\u001b[0;31m             \u001b[0mresult\u001b[0m \u001b[0;34m=\u001b[0m \u001b[0mfunc\u001b[0m\u001b[0;34m(\u001b[0m\u001b[0;34m*\u001b[0m\u001b[0margs\u001b[0m\u001b[0;34m)\u001b[0m\u001b[0;34m\u001b[0m\u001b[0;34m\u001b[0m\u001b[0m\n\u001b[0m\u001b[1;32m    497\u001b[0m             \u001b[0;32mif\u001b[0m \u001b[0mresult\u001b[0m \u001b[0;32mis\u001b[0m \u001b[0;32mnot\u001b[0m \u001b[0;32mNone\u001b[0m\u001b[0;34m:\u001b[0m\u001b[0;34m\u001b[0m\u001b[0;34m\u001b[0m\u001b[0m\n\u001b[1;32m    498\u001b[0m                 \u001b[0;32mreturn\u001b[0m \u001b[0mresult\u001b[0m\u001b[0;34m\u001b[0m\u001b[0;34m\u001b[0m\u001b[0m\n",
            "\u001b[0;32m/usr/lib/python3.10/urllib/request.py\u001b[0m in \u001b[0;36mhttp_error_default\u001b[0;34m(self, req, fp, code, msg, hdrs)\u001b[0m\n\u001b[1;32m    641\u001b[0m \u001b[0;32mclass\u001b[0m \u001b[0mHTTPDefaultErrorHandler\u001b[0m\u001b[0;34m(\u001b[0m\u001b[0mBaseHandler\u001b[0m\u001b[0;34m)\u001b[0m\u001b[0;34m:\u001b[0m\u001b[0;34m\u001b[0m\u001b[0;34m\u001b[0m\u001b[0m\n\u001b[1;32m    642\u001b[0m     \u001b[0;32mdef\u001b[0m \u001b[0mhttp_error_default\u001b[0m\u001b[0;34m(\u001b[0m\u001b[0mself\u001b[0m\u001b[0;34m,\u001b[0m \u001b[0mreq\u001b[0m\u001b[0;34m,\u001b[0m \u001b[0mfp\u001b[0m\u001b[0;34m,\u001b[0m \u001b[0mcode\u001b[0m\u001b[0;34m,\u001b[0m \u001b[0mmsg\u001b[0m\u001b[0;34m,\u001b[0m \u001b[0mhdrs\u001b[0m\u001b[0;34m)\u001b[0m\u001b[0;34m:\u001b[0m\u001b[0;34m\u001b[0m\u001b[0;34m\u001b[0m\u001b[0m\n\u001b[0;32m--> 643\u001b[0;31m         \u001b[0;32mraise\u001b[0m \u001b[0mHTTPError\u001b[0m\u001b[0;34m(\u001b[0m\u001b[0mreq\u001b[0m\u001b[0;34m.\u001b[0m\u001b[0mfull_url\u001b[0m\u001b[0;34m,\u001b[0m \u001b[0mcode\u001b[0m\u001b[0;34m,\u001b[0m \u001b[0mmsg\u001b[0m\u001b[0;34m,\u001b[0m \u001b[0mhdrs\u001b[0m\u001b[0;34m,\u001b[0m \u001b[0mfp\u001b[0m\u001b[0;34m)\u001b[0m\u001b[0;34m\u001b[0m\u001b[0;34m\u001b[0m\u001b[0m\n\u001b[0m\u001b[1;32m    644\u001b[0m \u001b[0;34m\u001b[0m\u001b[0m\n\u001b[1;32m    645\u001b[0m \u001b[0;32mclass\u001b[0m \u001b[0mHTTPRedirectHandler\u001b[0m\u001b[0;34m(\u001b[0m\u001b[0mBaseHandler\u001b[0m\u001b[0;34m)\u001b[0m\u001b[0;34m:\u001b[0m\u001b[0;34m\u001b[0m\u001b[0;34m\u001b[0m\u001b[0m\n",
            "\u001b[0;31mHTTPError\u001b[0m: HTTP Error 404: Not Found"
          ]
        }
      ]
    },
    {
      "cell_type": "markdown",
      "source": [
        "## Answer the questions\n",
        "1. What is the expected return and standard deviation of the minimum variance portfolio?\n",
        "\n",
        "  The efficient frontier portfolio with the smallest standard deviation is called the minimum variance portfolio.\n",
        "  The graph shows that the minimal variance portfolio has a 10% standard deviation and an 11.5% anticipated return.\n",
        "\n",
        "2. What is the expected return and standard deviation of the portfolio with the highest expected return?\n",
        "The optimal portfolio is the one that maximises expected return and lies on the efficient frontier.\n",
        "The chart shows that the highest-yielding portfolio has a standard deviation of about 12% and an expected return of about 13%.\n",
        "\n",
        "3. Which portfolio would you choose, the minimum variance portfolio or the portfolio with the highest expected return?\n",
        "Investors' risk preferences should guide their selection of a suitable portfolio.\n",
        "More conservative investors will opt for the minimum variance portfolio, which has a lower predicted return but more safety.\n",
        "A higher-yielding portfolio, such the one with a 13% projected return, may appeal to investors who are willing to take on additional risk.\n",
        "\n",
        "4. How can you diversify your portfolio to reduce risk?\n",
        "Investing across multiple asset classes, such as equities, fixed income, and real estate, is one strategy for portfolio diversification.\n",
        "The stock market is one way to diversify your portfolio within each asset category.\n",
        "You can lower your overall risk by spreading it out over a variety of investments, or \"diversifying,\" your portfolio."
      ],
      "metadata": {
        "id": "0BDwum1Z4AA0"
      }
    },
    {
      "cell_type": "code",
      "source": [],
      "metadata": {
        "id": "Ibu8r9_S23Z_"
      },
      "execution_count": null,
      "outputs": []
    }
  ]
}